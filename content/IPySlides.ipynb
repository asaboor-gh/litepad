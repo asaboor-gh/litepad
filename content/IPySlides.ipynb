{
 "cells": [
  {
   "cell_type": "code",
   "execution_count": null,
   "id": "d00e15f5-26e8-40c1-82a7-61ad466ec106",
   "metadata": {},
   "outputs": [],
   "source": [
    "%pip install -q ipyslides"
   ]
  },
  {
   "cell_type": "code",
   "execution_count": 3,
   "id": "3c646244-ad3e-4f49-9a1a-fa11c601b861",
   "metadata": {
    "execution": {
     "iopub.execute_input": "2025-07-03T17:50:20.109869Z",
     "iopub.status.busy": "2025-07-03T17:50:20.109869Z",
     "iopub.status.idle": "2025-07-03T17:50:29.022892Z",
     "shell.execute_reply": "2025-07-03T17:50:29.021515Z",
     "shell.execute_reply.started": "2025-07-03T17:50:20.109869Z"
    }
   },
   "outputs": [
    {
     "data": {
      "application/vnd.jupyter.widget-view+json": {
       "model_id": "580f13672de04db08827db0c3f20f4d5",
       "version_major": 2,
       "version_minor": 0
      },
      "text/plain": [
       "HBox(children=(VBox(children=(HTML(value='\\n            <style>\\n                .Slides-1889887069904 .BackLa…"
      ]
     },
     "metadata": {},
     "output_type": "display_data"
    }
   ],
   "source": [
    "import ipyslides as isd\n",
    "\n",
    "slides = isd.Slides()\n",
    "\n",
    "slides.docs()"
   ]
  },
  {
   "cell_type": "code",
   "execution_count": null,
   "id": "56995d44-b43b-4943-928a-65885fc548f6",
   "metadata": {},
   "outputs": [],
   "source": []
  }
 ],
 "metadata": {
  "kernelspec": {
   "display_name": "Python 3 (ipykernel)",
   "language": "python",
   "name": "python3"
  },
  "language_info": {
   "codemirror_mode": {
    "name": "ipython",
    "version": 3
   },
   "file_extension": ".py",
   "mimetype": "text/x-python",
   "name": "python",
   "nbconvert_exporter": "python",
   "pygments_lexer": "ipython3",
   "version": "3.8.10"
  }
 },
 "nbformat": 4,
 "nbformat_minor": 5
}
